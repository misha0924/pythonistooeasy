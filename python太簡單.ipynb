{
 "cells": [
  {
   "cell_type": "code",
   "execution_count": null,
   "metadata": {},
   "outputs": [],
   "source": [
    "a=3  #單行註解\n",
    "b=5\n",
    "print(a+b)\n",
    "#印出a+b的結果"
   ]
  },
  {
   "cell_type": "code",
   "execution_count": null,
   "metadata": {},
   "outputs": [],
   "source": [
    "x=1 \n",
    "y=10\n",
    "\n",
    "z=x\n",
    "x=y\n",
    "y=z\n",
    "#變數交換\n",
    "\n",
    "print(x)\n",
    "print(y)"
   ]
  },
  {
   "cell_type": "code",
   "execution_count": null,
   "metadata": {},
   "outputs": [],
   "source": [
    "x=1\n",
    "y=10\n",
    "x,y = y,x\n",
    "#python版本的變數交換\n",
    "\n",
    "print(x)\n",
    "print(y)"
   ]
  },
  {
   "cell_type": "code",
   "execution_count": null,
   "metadata": {},
   "outputs": [],
   "source": [
    "x, y, z= 3, 4, 5\n",
    "print(x)\n",
    "print(y)\n",
    "print(z)\n",
    "#同時設定多個變數"
   ]
  },
  {
   "cell_type": "code",
   "execution_count": null,
   "metadata": {},
   "outputs": [],
   "source": [
    "x += 1 #x=x+1\n",
    "y *= 2 #y=y*2\n",
    "z **= 3 #z^3"
   ]
  },
  {
   "cell_type": "code",
   "execution_count": null,
   "metadata": {},
   "outputs": [],
   "source": [
    "import math #啟用 math 就可以使用 math 的東西\n",
    "a,b,c=3,4,5\n",
    "s=(a+b+c)/2 #海龍公式\n",
    "d=math.sqrt(s*(s-a)*(s-b)*(s-c)) #sqrt = 開根號\n",
    "print(d)"
   ]
  },
  {
   "cell_type": "code",
   "execution_count": null,
   "metadata": {},
   "outputs": [],
   "source": [
    "x=254\n",
    "print(type(x))\n",
    "y=254.0\n",
    "print(type(y))\n",
    "z='write'\n",
    "print(type(z))\n",
    "#印出當前變數的類型"
   ]
  },
  {
   "cell_type": "code",
   "execution_count": null,
   "metadata": {},
   "outputs": [],
   "source": [
    "\n",
    "x=10\n",
    "y=3\n",
    "print(x/y)  #除法\n",
    "print(x//y) #求商\n",
    "print(x%y)  #求餘數"
   ]
  },
  {
   "cell_type": "code",
   "execution_count": null,
   "metadata": {},
   "outputs": [],
   "source": [
    "print(10==10)\n",
    "x, y = 10, 20\n",
    "print(x==y)\n",
    "# == 關係比較\n",
    "\n",
    "x=y #指派值\n",
    "print(x)"
   ]
  },
  {
   "cell_type": "code",
   "execution_count": null,
   "metadata": {},
   "outputs": [],
   "source": [
    "y=2010\n",
    "print(y%4==0 and y%100!=0 or y%400==0)\n",
    "y=2012\n",
    "print(y%4==0 and y%100!=0 or y%400==0)\n",
    "y=1900\n",
    "print(y%4==0 and y%100!=0 or y%400==0)\n",
    "y=2000\n",
    "print(y%4==0 and y%100!=0 or y%400==0)\n",
    "#運算閏年"
   ]
  },
  {
   "cell_type": "code",
   "execution_count": null,
   "metadata": {},
   "outputs": [],
   "source": [
    "x=\"must\"\n",
    "print(10*x)\n",
    "print(\"10\"+x)\n",
    "print(10,x)\n",
    "#不同型態之間所得到的結果"
   ]
  },
  {
   "cell_type": "code",
   "execution_count": null,
   "metadata": {},
   "outputs": [],
   "source": [
    "x=12\n",
    "print(type(x))\n",
    "\n",
    "y=float(x)+0.5\n",
    "print(int(\"123\"))\n",
    "print(int(123.33))\n",
    "print(int(float(\"123.33\")))\n",
    "#強制轉換型別\n",
    "\n",
    "print(type(y))\n"
   ]
  },
  {
   "cell_type": "code",
   "execution_count": null,
   "metadata": {},
   "outputs": [],
   "source": [
    "#字串的型別轉換\n",
    "x=10*3.25  #x=32.5\n",
    "y=200*200  #y=40000\n",
    "s=\"The value of x is \" + str(x) + ' and y is ' + str(y) #str = 將其他型別變成字串\n",
    "\n",
    "print(s)\n",
    "print(\"The value of x is\", x,\"and y is\", y)\n",
    "print(\"The value of x is {} and y is {}\".format(x,y))\n",
    "#不同的變數表達方式"
   ]
  },
  {
   "cell_type": "code",
   "execution_count": null,
   "metadata": {},
   "outputs": [],
   "source": [
    "import math\n",
    "print(math.pi) #圓周率\n",
    "print(math.pow(2,3)) #2的3次方\n",
    "print(8.3*10.58*math.sin(37.0/180*math.pi)/2)\n",
    "print(math.sqrt(25)) #開根號"
   ]
  },
  {
   "cell_type": "code",
   "execution_count": null,
   "metadata": {},
   "outputs": [],
   "source": [
    "import math\n",
    "r=input(\"請輸入圓的半徑：\") #先輸出()內的字串，接著需要輸入才能接下去後面的指令\n",
    "area=float(r)*float(r)*math.pi\n",
    "print(\"圓面積為：\",area)"
   ]
  },
  {
   "cell_type": "code",
   "execution_count": null,
   "metadata": {},
   "outputs": [],
   "source": [
    "a=3\n",
    "b=4\n",
    "if a <= b:\n",
    "    print(\"b是比較大的數字\")\n",
    "else:\n",
    "    print(\"a是比較大的數字\")\n",
    "#判斷a,b的大小"
   ]
  },
  {
   "cell_type": "code",
   "execution_count": null,
   "metadata": {},
   "outputs": [],
   "source": [
    "grade=87\n",
    "print(\"成績評鑑：\")\n",
    "if grade >= 90:\n",
    "    print(\"優等\")\n",
    "elif grade >=80:\n",
    "    print(\"甲等\")\n",
    "elif grade >=70:\n",
    "    print(\"乙等\")\n",
    "elif grade >=60:\n",
    "    print(\"丙等\")\n",
    "else:\n",
    "    print(\"不及格\")\n",
    "    \n",
    "#分類成績的區間"
   ]
  },
  {
   "cell_type": "code",
   "execution_count": null,
   "metadata": {},
   "outputs": [],
   "source": [
    "sum = 0\n",
    "for count in range(1, 11, 1): #從1開始(1)，間隔1(3), <11(2)\n",
    "    sum += count #1~10的加總\n",
    "print(\"1+2+3+...+10 =\", sum)"
   ]
  },
  {
   "cell_type": "code",
   "execution_count": null,
   "metadata": {},
   "outputs": [],
   "source": [
    "sum = 0\n",
    "for count in range(11): #1-10, 不包含11\n",
    "    sum += count\n",
    "print(\"1+2+3+...+10 =\", sum)\n",
    "#range另外一種寫法"
   ]
  },
  {
   "cell_type": "code",
   "execution_count": null,
   "metadata": {},
   "outputs": [],
   "source": [
    "mylist=\"for statement\"\n",
    "for c in mylist:\n",
    "    print(c)\n",
    "print(\"end list\")"
   ]
  },
  {
   "cell_type": "code",
   "execution_count": null,
   "metadata": {},
   "outputs": [],
   "source": [
    "for pl in [\"Java\", \"C#\", \"Python\"]: #字串表示不同\n",
    "    print(pl)"
   ]
  },
  {
   "cell_type": "code",
   "execution_count": null,
   "metadata": {},
   "outputs": [],
   "source": [
    "for chicken in range(0,36):\n",
    "    rabbit=35-chicken\n",
    "    #雞每增加一隻，兔子就少一隻\n",
    "    \n",
    "    if (2*chicken+4*rabbit) == 94:\n",
    "        print(\"雞有\",chicken,\"隻,兔子有\",rabbit,\"隻\")\n",
    "        break\n",
    "        #當數量正確時就跳出\n",
    "else:\n",
    "    print(\"無解\")"
   ]
  },
  {
   "cell_type": "code",
   "execution_count": null,
   "metadata": {},
   "outputs": [],
   "source": [
    "sum=0\n",
    "count=1\n",
    "while count <=10:\n",
    "    sum += count\n",
    "    count += 1\n",
    "print(\"1+2+3+...+10=\",sum) #1~10的加總"
   ]
  },
  {
   "cell_type": "code",
   "execution_count": null,
   "metadata": {},
   "outputs": [],
   "source": [
    "x=10000\n",
    "years=0\n",
    "while x <= 20000:\n",
    "    x=x*1.006\n",
    "    years += 1\n",
    "#本金10000元，定存年利率0.6%\n",
    "print(str(years), \"年以後，存款加倍，為\", int(x),\"元\")"
   ]
  },
  {
   "cell_type": "code",
   "execution_count": null,
   "metadata": {},
   "outputs": [],
   "source": [
    "id=\"tony\"\n",
    "pwd=\"1234\"\n",
    "while True:\n",
    "    x=input(\"請輸入帳號：\") #輸入帳號\n",
    "    y=input(\"請輸入密碼：\") #輸入密碼\n",
    "    if (x==id and y==pwd):\n",
    "        print(\"歡迎登入\")\n",
    "        break\n",
    "        #帳號密碼正確並登入\n",
    "    else:\n",
    "        print(\"帳號或密碼輸入錯誤\")"
   ]
  },
  {
   "cell_type": "code",
   "execution_count": null,
   "metadata": {},
   "outputs": [],
   "source": [
    "import random\n",
    "for i in range(0,10):\n",
    "    print(random.randint(1,9))\n",
    "    #亂數"
   ]
  },
  {
   "cell_type": "code",
   "execution_count": null,
   "metadata": {},
   "outputs": [],
   "source": [
    "import random\n",
    "number=random.randint(1,20)\n",
    "while True:\n",
    "    guess=int(input(\"請輸入1~20之間的數字-->\"))\n",
    "    if guess == number:\n",
    "        print(\"你猜對了，數字是\", number)\n",
    "        break\n",
    "    else:\n",
    "        print(\"你猜錯了\")\n",
    "#產生亂數來猜數字"
   ]
  },
  {
   "cell_type": "code",
   "execution_count": null,
   "metadata": {},
   "outputs": [],
   "source": [
    "expenses = [1138, 101, 12, 300, 2049] #用中括號[]包裹元素\n",
    "print(sum(expenses)) #sum為加總"
   ]
  },
  {
   "cell_type": "code",
   "execution_count": null,
   "metadata": {},
   "outputs": [],
   "source": [
    "expenses = [1138, 101, 12, 300, 2049]\n",
    "print(expenses[0])\n",
    "print(expenses[1])\n",
    "print(expenses[-1]) #倒數第一個\n",
    "print(expenses[-2])\n",
    "#印出expenses內，相對位置的數"
   ]
  },
  {
   "cell_type": "code",
   "execution_count": null,
   "metadata": {},
   "outputs": [],
   "source": [
    "my_list0 = [] #空串列\n",
    "my_list1 = list() \n",
    "my_list2 = ['python', 'javascript', 'C#']\n",
    "print(my_list2[0]) #印出my_list2內，相對位置的數"
   ]
  },
  {
   "cell_type": "code",
   "execution_count": null,
   "metadata": {},
   "outputs": [],
   "source": [
    "my_list2 = ['python', 'javascript', 'C#']\n",
    "print(len(my_list2)) #沒指定位置就是內容個數\n",
    "print(len(my_list2[0]))\n",
    "#印出字串長度"
   ]
  },
  {
   "cell_type": "code",
   "execution_count": null,
   "metadata": {},
   "outputs": [],
   "source": [
    "my_list2 = ['python', 'javascript', 'C#']\n",
    "my_list2.append('java') #再增加()內的字串\n",
    "print(my_list2)"
   ]
  },
  {
   "cell_type": "code",
   "execution_count": null,
   "metadata": {},
   "outputs": [],
   "source": [
    "my_list2 = ['python', 'javascript', 'C#']\n",
    "my_list2.insert(1,'java') #在一的位置增加()內的字串\n",
    "print(my_list2)"
   ]
  },
  {
   "cell_type": "code",
   "execution_count": null,
   "metadata": {},
   "outputs": [],
   "source": [
    "my_list2 = ['python', 'javascript', 'C#']\n",
    "my_list2.remove('python') #移除指定元素\n",
    "print(my_list2)\n",
    "del my_list2[-1] #刪除指定位置的元素\n",
    "print(my_list2)\n",
    "my_list2.clear() #清除全部\n",
    "print(my_list2)"
   ]
  },
  {
   "cell_type": "code",
   "execution_count": null,
   "metadata": {},
   "outputs": [],
   "source": [
    "a=[1,2]\n",
    "print(a*5) #1,2輸入五次"
   ]
  },
  {
   "cell_type": "code",
   "execution_count": null,
   "metadata": {},
   "outputs": [],
   "source": [
    "a=[1,2,3,4,5,6,7,8,9]\n",
    "b=a[0:3] #範圍取值，0,1,2不包含3\n",
    "print(b)\n",
    "c=a[0:9:2] #間隔2取值\n",
    "print(c)\n",
    "d = a[0: ]\n",
    "print(d)\n",
    "e = a[ :9]\n",
    "print(e)\n",
    "f = a[:] #取全部值\n",
    "print(f)"
   ]
  },
  {
   "cell_type": "code",
   "execution_count": null,
   "metadata": {},
   "outputs": [],
   "source": [
    "a=[1,2,3,4,5,6,7,8,9]\n",
    "del a[7:9] #刪除某範圍值, 7, 8\n",
    "print(a)\n",
    "print(min(a)) #最小值\n",
    "print(max(a)) #最大值\n",
    "print(a.index(1)) #找出1所在的第一個索引值\n",
    "b=[1,0,0,1,1,1]\n",
    "print(b.count(1)) #1出現的次數\n",
    "a.reverse() #串列反轉\n",
    "print(a)\n",
    "a.sort() #串列由小到大排序,a的值會被改變\n",
    "print(a)"
   ]
  },
  {
   "cell_type": "code",
   "execution_count": null,
   "metadata": {},
   "outputs": [],
   "source": [
    "expenses = [1138, 101, 12, 300, 2049]\n",
    "s=sorted(expenses) #直接排序expenses\n",
    "print(s, expenses)"
   ]
  }
 ],
 "metadata": {
  "kernelspec": {
   "display_name": "Python 3",
   "language": "python",
   "name": "python3"
  },
  "language_info": {
   "codemirror_mode": {
    "name": "ipython",
    "version": 3
   },
   "file_extension": ".py",
   "mimetype": "text/x-python",
   "name": "python",
   "nbconvert_exporter": "python",
   "pygments_lexer": "ipython3",
   "version": "3.8.5"
  }
 },
 "nbformat": 4,
 "nbformat_minor": 4
}
